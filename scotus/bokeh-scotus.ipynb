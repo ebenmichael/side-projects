{
 "metadata": {
  "name": "",
  "signature": "sha256:67bf16aa5caa96bdb09963ac343caa0a1906f6a824b77b607637153d91e455e8"
 },
 "nbformat": 3,
 "nbformat_minor": 0,
 "worksheets": [
  {
   "cells": [
    {
     "cell_type": "code",
     "collapsed": false,
     "input": [
      "import pandas as pd\n",
      "from bokeh.charts import Bar, show, output_notebook,  output_file\n",
      "from bokeh.plotting import figure, show"
     ],
     "language": "python",
     "metadata": {},
     "outputs": [],
     "prompt_number": 1
    },
    {
     "cell_type": "code",
     "collapsed": false,
     "input": [
      "#get data\n",
      "data = pd.read_excel(\"SCDB_2013_01_caseCentered_Citation.xlsx\", 'Data')\n",
      "#divide data up by chief justice\n",
      "vinson = data[data['chief'] == 'Vinson']\n",
      "warren = data[data['chief'] == 'Warren']\n",
      "burger = data[data['chief'] == 'Burger']\n",
      "rehnquist = data[data['chief'] == 'Rehnquist']\n",
      "roberts = data[data['chief'] == 'Roberts']\n",
      "\n",
      "justices = [vinson,warren,burger,rehnquist,roberts]\n"
     ],
     "language": "python",
     "metadata": {},
     "outputs": [],
     "prompt_number": 2
    },
    {
     "cell_type": "code",
     "collapsed": false,
     "input": [
      "#get a stacked bar chart of ideology of decisions for the different decision types\n",
      "issueCodes = ['Criminal Procedure','Civil Rights','First Ammendment',\n",
      "'Due Process','Privacy','Attorneys','Unions','Economic Activity','Judicial Power',\n",
      "'Federalism','Interstate Relations','Federal Taxation','Miscellaneous','Private Action']\n",
      "issues = data.groupby(['issueArea','decisionDirection']).size().unstack()\n",
      "issues = issues.drop(issues.index[[10,12,13]]).drop(3,1).fillna(0)\n",
      "issueCodes = [issueCodes[i] for i in range(14) if i not in [10,12,13]]"
     ],
     "language": "python",
     "metadata": {},
     "outputs": [
      {
       "metadata": {},
       "output_type": "pyout",
       "prompt_number": 12,
       "text": [
        "pandas.core.frame.DataFrame"
       ]
      }
     ],
     "prompt_number": 12
    },
    {
     "cell_type": "code",
     "collapsed": false,
     "input": [
      "#set what red blue and green are\n",
      "red,blue,green =  '#e41a1c', '#377eb8', '#4daf4a'"
     ],
     "language": "python",
     "metadata": {},
     "outputs": [],
     "prompt_number": 1
    },
    {
     "cell_type": "code",
     "collapsed": false,
     "input": [
      "#hover tool\n",
      "from bokeh.models import HoverTool\n",
      "hover = HoverTool(tooltips = [ ('Type','$x'), ('Conservative','@1'), ('Liberal','@2')])"
     ],
     "language": "python",
     "metadata": {},
     "outputs": []
    }
   ],
   "metadata": {}
  }
 ]
}